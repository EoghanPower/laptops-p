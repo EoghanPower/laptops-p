{
 "cells": [
  {
   "cell_type": "code",
   "execution_count": 1,
   "id": "90aeda02",
   "metadata": {},
   "outputs": [],
   "source": [
    "import pandas as pd\n",
    "import numpy as np \n",
    "import re\n",
    "import matplotlib.pyplot as plt \n",
    "plt.style.use('ggplot')\n",
    "import seaborn as sns\n"
   ]
  },
  {
   "cell_type": "code",
   "execution_count": 2,
   "id": "7f3e3daf",
   "metadata": {},
   "outputs": [],
   "source": [
    "sp500_companies = pd.read_csv('constituents-financials_csv.csv')"
   ]
  },
  {
   "cell_type": "code",
   "execution_count": 3,
   "id": "c964621a",
   "metadata": {
    "scrolled": true
   },
   "outputs": [
    {
     "name": "stdout",
     "output_type": "stream",
     "text": [
      "  Symbol                 Name                  Sector   Price  Price/Earnings  \\\n",
      "0    MMM           3M Company             Industrials  222.89           24.31   \n",
      "1    AOS      A.O. Smith Corp             Industrials   60.24           27.76   \n",
      "2    ABT  Abbott Laboratories             Health Care   56.27           22.51   \n",
      "3   ABBV          AbbVie Inc.             Health Care  108.48           19.41   \n",
      "4    ACN        Accenture plc  Information Technology  150.51           25.47   \n",
      "\n",
      "   Dividend Yield  Earnings/Share  52 Week Low  52 Week High    Market Cap  \\\n",
      "0        2.332862            7.92       259.77       175.490  1.387210e+11   \n",
      "1        1.147959            1.70        68.39        48.925  1.078342e+10   \n",
      "2        1.908982            0.26        64.60        42.280  1.021210e+11   \n",
      "3        2.499560            3.29       125.86        60.050  1.813860e+11   \n",
      "4        1.714470            5.44       162.60       114.820  9.876586e+10   \n",
      "\n",
      "         EBITDA  Price/Sales  Price/Book  \\\n",
      "0  9.048000e+09     4.390271       11.34   \n",
      "1  6.010000e+08     3.575483        6.35   \n",
      "2  5.744000e+09     3.740480        3.19   \n",
      "3  1.031000e+10     6.291571       26.14   \n",
      "4  5.643228e+09     2.604117       10.62   \n",
      "\n",
      "                                         SEC Filings  \n",
      "0  http://www.sec.gov/cgi-bin/browse-edgar?action...  \n",
      "1  http://www.sec.gov/cgi-bin/browse-edgar?action...  \n",
      "2  http://www.sec.gov/cgi-bin/browse-edgar?action...  \n",
      "3  http://www.sec.gov/cgi-bin/browse-edgar?action...  \n",
      "4  http://www.sec.gov/cgi-bin/browse-edgar?action...  \n"
     ]
    }
   ],
   "source": [
    "print(sp500_companies.head())"
   ]
  },
  {
   "cell_type": "code",
   "execution_count": 4,
   "id": "7679bd26",
   "metadata": {},
   "outputs": [
    {
     "name": "stdout",
     "output_type": "stream",
     "text": [
      "                  Name    Market Cap\n",
      "0           3M Company  1.387210e+11\n",
      "1      A.O. Smith Corp  1.078342e+10\n",
      "2  Abbott Laboratories  1.021210e+11\n",
      "3          AbbVie Inc.  1.813860e+11\n",
      "4        Accenture plc  9.876586e+10\n"
     ]
    }
   ],
   "source": [
    "sp_marketcap = sp500_companies.loc[:,['Name','Market Cap']]\n",
    "print(sp_marketcap.head())"
   ]
  },
  {
   "cell_type": "markdown",
   "id": "f0e8f61f",
   "metadata": {},
   "source": []
  },
  {
   "cell_type": "code",
   "execution_count": 5,
   "id": "fc4cc6d2",
   "metadata": {},
   "outputs": [
    {
     "data": {
      "text/plain": [
       "pandas.core.series.Series"
      ]
     },
     "execution_count": 5,
     "metadata": {},
     "output_type": "execute_result"
    }
   ],
   "source": [
    "type(sp_marketcap['Market Cap'])"
   ]
  },
  {
   "cell_type": "code",
   "execution_count": 6,
   "id": "14f3e647",
   "metadata": {},
   "outputs": [
    {
     "name": "stdout",
     "output_type": "stream",
     "text": [
      "[1.38721000e+11 1.07834199e+10 1.02121000e+11 1.81386000e+11\n",
      " 9.87658556e+10 5.25186681e+10 6.24237770e+09 9.45502143e+10\n",
      " 8.12361187e+09 1.11916638e+10 6.92085121e+09 5.91970164e+10\n",
      " 1.04421744e+10 3.34229480e+10 2.19846069e+10 3.46383871e+10\n",
      " 1.09069041e+10 7.90317373e+09 1.17821513e+10 1.20433744e+10\n",
      " 2.61724398e+10 1.87880414e+10 7.59960949e+09 5.66688339e+10\n",
      " 1.36326086e+10 8.67016350e+09 3.47594689e+10 7.33824000e+11\n",
      " 7.28536000e+11 1.26985000e+11 6.85873000e+11 1.29057449e+10\n",
      " 2.45948524e+10 3.17019165e+10 8.04109900e+10 5.43600732e+10\n",
      " 5.92138926e+10 1.39061462e+10 2.34721260e+10 2.05877041e+10\n",
      " 1.71396519e+10 1.28133000e+11 2.69553354e+10 3.21290917e+10\n",
      " 3.18115789e+10 1.56964497e+10 1.31559191e+10 6.12219786e+10\n",
      " 3.51231234e+10 1.50662810e+10 6.15688414e+09 8.09508000e+11\n",
      " 5.12964815e+10 2.49065303e+10 2.35947707e+10 1.21233000e+10\n",
      " 1.19684883e+10 4.65399359e+09 2.26713000e+11 2.43482945e+10\n",
      " 5.03377022e+10 1.99220214e+10 2.18565474e+10 1.01048143e+10\n",
      " 3.29957129e+10 1.37676885e+10 3.21478000e+11 3.57137326e+10\n",
      " 4.20875629e+10 5.09101803e+10 2.61401000e+11 2.08311862e+10\n",
      " 6.91577264e+10 8.59077599e+10 5.38143387e+09 2.05617000e+11\n",
      " 1.15961174e+10 1.77998785e+10 3.61425060e+10 7.06661325e+09\n",
      " 1.02507000e+11 9.27919749e+10 5.49803350e+09 1.29324839e+10\n",
      " 1.41754229e+10 1.08088216e+10 1.08906252e+10 1.34671934e+10\n",
      " 4.76372600e+10 2.04932812e+10 1.18274537e+10 4.91800440e+10\n",
      " 9.18220490e+10 1.29982956e+10 1.44405917e+10 2.04313957e+10\n",
      " 7.49210792e+10 1.80124945e+10 1.13620433e+10 1.82371969e+10\n",
      " 2.11016976e+10 9.20910670e+09 6.97501888e+10 8.67088781e+10\n",
      " 2.62610212e+09 2.18979000e+11 7.68528397e+09 6.84246706e+10\n",
      " 1.18389635e+10 4.76809105e+10 1.00890820e+10 1.19165330e+10\n",
      " 1.66761459e+10 1.99426000e+11 1.92709000e+11 2.20080510e+10\n",
      " 1.31991675e+10 5.44232987e+10 1.18739608e+10 1.89855000e+11\n",
      " 4.51196841e+10 6.16166435e+10 1.86477000e+11 1.62749693e+10\n",
      " 1.43797178e+10 2.20218823e+10 6.54824624e+10 2.33357777e+10\n",
      " 4.16974532e+10 2.57592803e+10 8.04398045e+10 1.31011125e+10\n",
      " 4.41830232e+10 5.13450128e+09 4.73405117e+10 2.86692308e+10\n",
      " 7.53231417e+10 1.73908737e+10 6.63511500e+10 1.17455953e+10\n",
      " 1.36851780e+10 5.21866286e+10 3.83936035e+10 1.33905135e+10\n",
      " 1.93173800e+10 2.14009525e+10 2.74335400e+10 8.76375673e+09\n",
      " 8.32026212e+09 2.10327191e+10 2.65806449e+10 2.51511984e+10\n",
      " 4.75435719e+10 1.55666457e+10 1.65203000e+11 2.12097839e+10\n",
      " 1.78080737e+10 5.20781857e+10 9.03529336e+09 2.74086210e+10\n",
      " 1.37549773e+10 1.42268308e+10 3.59617720e+10 4.42166964e+10\n",
      " 3.84602723e+10 1.94476709e+10 2.74470999e+10 3.78902270e+10\n",
      " 4.40402984e+10 1.31168949e+10 4.21272925e+09 6.11640301e+10\n",
      " 1.26388290e+10 1.41213346e+10 3.33338136e+10 2.09255081e+10\n",
      " 1.43835253e+10 4.95432645e+10 1.01318925e+10 1.80276336e+10\n",
      " 3.47348169e+10 1.97221786e+10 1.10406781e+10 4.24496564e+10\n",
      " 1.01335475e+10 3.26149000e+11 8.74418580e+09 5.23423000e+11\n",
      " 1.53113734e+10 8.07736851e+09 6.72804788e+10 3.23084597e+10\n",
      " 2.24376537e+10 1.37060751e+10 2.69189497e+10 6.70699293e+09\n",
      " 5.42788496e+09 7.97848506e+09 1.12739618e+10 5.81908033e+09\n",
      " 4.24143283e+10 2.49165031e+10 9.62416901e+09 2.17591880e+10\n",
      " 2.58539693e+10 1.26845177e+10 1.18403316e+10 1.08283144e+10\n",
      " 6.41803907e+10 1.32249000e+11 2.10188873e+10 3.10982431e+10\n",
      " 6.15366062e+10 1.45543217e+10 1.08107000e+11 1.69200233e+10\n",
      " 9.69785003e+10 8.24456824e+09 1.46393082e+10 4.33565575e+10\n",
      " 8.00626862e+09 8.15894989e+09 1.81407266e+10 1.99263056e+10\n",
      " 1.27320720e+10 3.44490528e+10 1.09677555e+10 7.34524381e+09\n",
      " 1.14529620e+10 1.40161300e+10 2.48008596e+10 2.62424158e+10\n",
      " 1.11814938e+10 2.23379000e+11 1.14422000e+11 1.73386131e+10\n",
      " 1.43947153e+10 3.48952941e+10 3.69736172e+10 1.67664973e+10\n",
      " 1.06282479e+10 1.54228850e+10 1.79692758e+10 5.59943781e+10\n",
      " 3.22952000e+10 1.82209613e+10 2.27854506e+10 2.11536000e+11\n",
      " 4.13730512e+10 1.42433000e+11 2.44659964e+10 8.27736303e+09\n",
      " 1.12700404e+10 4.12337716e+10 4.48666213e+10 1.36208476e+10\n",
      " 2.04264887e+10 9.41024928e+09 1.29453664e+10 9.32648432e+09\n",
      " 1.36123949e+10 3.53062000e+11 3.48222248e+10 3.86614000e+11\n",
      " 9.26735000e+09 1.10370410e+10 2.21827949e+10 2.25897449e+10\n",
      " 3.94495960e+10 6.18048750e+09 3.86127122e+10 1.60786220e+10\n",
      " 1.05708612e+10 8.96183093e+10 2.54713558e+10 1.38620428e+10\n",
      " 1.62293431e+10 1.72713880e+10 2.79675348e+10 6.03460048e+09\n",
      " 1.46159672e+10 8.91038943e+09 8.44759862e+10 1.71230310e+10\n",
      " 1.24699319e+10 9.81021200e+10 1.61111669e+10 8.29096789e+10\n",
      " 4.35566500e+10 2.78408274e+10 8.47311917e+09 7.54106350e+09\n",
      " 1.38750053e+10 3.16337400e+10 5.09101304e+10 4.18194400e+10\n",
      " 1.37568127e+10 1.34287923e+10 1.87102000e+11 5.84340235e+09\n",
      " 1.34593533e+10 1.32102000e+11 3.15348403e+10 1.10107000e+11\n",
      " 1.52242000e+11 4.86793643e+10 1.64207744e+10 1.96336743e+10\n",
      " 1.00539190e+10 1.93930956e+10 4.85767920e+10 6.89978000e+11\n",
      " 9.99262899e+09 1.98973565e+10 1.23968621e+10 6.58278177e+10\n",
      " 5.30768243e+10 3.64038310e+10 3.01899780e+10 9.75354000e+10\n",
      " 1.66260397e+10 2.16988493e+10 1.28443041e+10 1.29400968e+10\n",
      " 3.69269133e+09 1.53752109e+10 1.14805000e+11 1.44383460e+10\n",
      " 5.69512308e+09 1.97494495e+10 9.35690646e+09 9.49673570e+09\n",
      " 6.96611778e+10 1.33776701e+10 1.06776000e+11 7.77656637e+09\n",
      " 1.31773253e+10 8.21250986e+09 4.05435474e+10 2.29081302e+10\n",
      " 5.87824140e+10 1.31915073e+10 8.03003602e+09 2.00033171e+10\n",
      " 1.38653000e+11 2.14337819e+10 5.34676924e+10 1.73775520e+10\n",
      " 2.19884725e+10 2.02302000e+11 2.41521029e+10 1.10512739e+10\n",
      " 2.44216685e+10 3.20979240e+09 2.32536668e+10 9.07080000e+10\n",
      " 1.24666609e+10 6.52761600e+09 1.61413000e+11 8.35176727e+09\n",
      " 1.23263799e+10 2.08506000e+11 2.03094124e+10 1.53581000e+11\n",
      " 4.79962200e+10 8.39760989e+09 2.99831197e+10 7.33150000e+10\n",
      " 8.75343048e+09 2.90433375e+10 2.08398148e+10 4.29486642e+10\n",
      " 9.18174489e+10 1.84571997e+10 2.06319000e+11 3.10627800e+10\n",
      " 3.19532880e+10 4.71360800e+10 2.41380503e+10 3.22585399e+10\n",
      " 8.79257235e+09 1.14786259e+10 9.87788515e+09 9.62828289e+10\n",
      " 5.33013122e+09 1.35783000e+10 3.25558797e+09 1.32162717e+10\n",
      " 5.90662558e+10 1.37849425e+10 2.27999239e+10 9.85836749e+09\n",
      " 3.59503692e+10 2.15006400e+10 2.15909039e+10 1.32336227e+10\n",
      " 7.04716548e+09 2.41232164e+10 2.21978706e+10 2.72477898e+10\n",
      " 2.98035663e+10 2.74181475e+10 4.65859500e+10 7.94891150e+10\n",
      " 1.95720313e+10 5.22944888e+09 9.65293111e+10 1.13286424e+10\n",
      " 1.41131977e+10 8.00193840e+09 2.61638622e+10 3.77309948e+10\n",
      " 3.03427555e+09 4.81398395e+10 1.84930809e+10 8.61771434e+09\n",
      " 9.49910774e+09 4.34972241e+10 3.43512116e+10 2.44963996e+10\n",
      " 7.65489760e+10 3.80591133e+10 6.21856029e+09 5.75090968e+10\n",
      " 3.24989483e+10 1.65204973e+10 2.88937500e+10 1.27670679e+10\n",
      " 3.04453208e+10 2.58108650e+10 1.42471994e+10 3.98166965e+10\n",
      " 3.49836663e+10 1.41630645e+10 1.00263000e+11 1.52546724e+10\n",
      " 5.60839049e+10 1.65404180e+10 1.12979581e+10 2.08672720e+10\n",
      " 9.72696213e+09 3.89031318e+10 1.57817000e+11 8.32265863e+10\n",
      " 1.28105153e+10 7.41858000e+10 4.81814509e+10 9.61441217e+09\n",
      " 1.56949511e+10 8.45927120e+09 1.52412037e+10 5.70099851e+09\n",
      " 4.40270949e+10 6.61353135e+10 2.69575268e+10 9.09401159e+10\n",
      " 9.05015442e+09 1.33000001e+10 5.85691357e+09 5.36662895e+09\n",
      " 1.01513000e+11 1.93630592e+10 2.18835000e+11 9.64363568e+10\n",
      " 1.46549541e+10 1.05387000e+11 1.11160753e+10 1.12564323e+10\n",
      " 3.17976459e+10 3.93123091e+10 1.06926817e+10 1.88659991e+10\n",
      " 1.07549838e+10 1.55946771e+10 2.08092000e+11 3.93693863e+10\n",
      " 1.06010080e+10 2.70039000e+11 1.27787799e+10 1.69641622e+10\n",
      " 3.04681000e+11 7.08625419e+10 3.54884867e+10 1.60640786e+10\n",
      " 1.88902970e+10 2.81464000e+11 2.09436790e+10 2.47602978e+10\n",
      " 8.95160921e+09 1.64333407e+10 2.60702980e+10 1.21779200e+10\n",
      " 2.48023965e+10 2.07802693e+10 1.19938357e+10 1.82254005e+10\n",
      " 2.15596119e+10 7.93883334e+09 1.70649756e+10 1.07534236e+10\n",
      " 1.29150210e+10 2.70033031e+10 2.44546981e+10 1.06706786e+10\n",
      " 3.59911098e+10]\n"
     ]
    }
   ],
   "source": [
    " marketcapnumpy = np.array(sp_marketcap['Market Cap'])\n",
    "print(marketcapnumpy)"
   ]
  },
  {
   "cell_type": "code",
   "execution_count": 7,
   "id": "acc84d8e",
   "metadata": {},
   "outputs": [
    {
     "data": {
      "text/plain": [
       "49239434807.05347"
      ]
     },
     "execution_count": 7,
     "metadata": {},
     "output_type": "execute_result"
    }
   ],
   "source": [
    "np.mean(marketcapnumpy)"
   ]
  },
  {
   "cell_type": "code",
   "execution_count": 8,
   "id": "0c98942d",
   "metadata": {},
   "outputs": [
    {
     "data": {
      "text/plain": [
       "24865914577562.0"
      ]
     },
     "execution_count": 8,
     "metadata": {},
     "output_type": "execute_result"
    }
   ],
   "source": [
    "np.sum(marketcapnumpy)"
   ]
  },
  {
   "cell_type": "code",
   "execution_count": 9,
   "id": "3e8b96dc",
   "metadata": {},
   "outputs": [
    {
     "data": {
      "text/plain": [
       "array([1.38721000e+11, 1.07834199e+10, 1.02121000e+11, 1.81386000e+11,\n",
       "       9.87658556e+10, 5.25186681e+10, 6.24237770e+09, 9.45502143e+10,\n",
       "       8.12361187e+09, 1.11916638e+10, 6.92085121e+09, 5.91970164e+10,\n",
       "       1.04421744e+10, 3.34229480e+10, 2.19846069e+10, 3.46383871e+10,\n",
       "       1.09069041e+10, 7.90317373e+09, 1.17821513e+10, 1.20433744e+10,\n",
       "       2.61724398e+10, 1.87880414e+10, 7.59960949e+09, 5.66688339e+10,\n",
       "       1.36326086e+10, 8.67016350e+09, 3.47594689e+10, 7.33824000e+11,\n",
       "       7.28536000e+11, 1.26985000e+11, 6.85873000e+11, 1.29057449e+10,\n",
       "       2.45948524e+10, 3.17019165e+10, 8.04109900e+10, 5.43600732e+10,\n",
       "       5.92138926e+10, 1.39061462e+10, 2.34721260e+10, 2.05877041e+10,\n",
       "       1.71396519e+10, 1.28133000e+11, 2.69553354e+10, 3.21290917e+10,\n",
       "       3.18115789e+10, 1.56964497e+10, 1.31559191e+10, 6.12219786e+10,\n",
       "       3.51231234e+10, 1.50662810e+10, 6.15688414e+09, 8.09508000e+11,\n",
       "       5.12964815e+10, 2.49065303e+10, 2.35947707e+10, 1.21233000e+10,\n",
       "       1.19684883e+10, 4.65399359e+09, 2.26713000e+11, 2.43482945e+10,\n",
       "       5.03377022e+10, 1.99220214e+10, 2.18565474e+10, 1.01048143e+10,\n",
       "       3.29957129e+10, 1.37676885e+10, 3.21478000e+11, 3.57137326e+10,\n",
       "       4.20875629e+10, 5.09101803e+10, 2.61401000e+11, 2.08311862e+10,\n",
       "       6.91577264e+10, 8.59077599e+10, 5.38143387e+09, 2.05617000e+11,\n",
       "       1.15961174e+10, 1.77998785e+10, 3.61425060e+10, 7.06661325e+09,\n",
       "       1.02507000e+11, 9.27919749e+10, 5.49803350e+09, 1.29324839e+10,\n",
       "       1.41754229e+10, 1.08088216e+10, 1.08906252e+10, 1.34671934e+10,\n",
       "       4.76372600e+10, 2.04932812e+10, 1.18274537e+10, 4.91800440e+10,\n",
       "       9.18220490e+10, 1.29982956e+10, 1.44405917e+10, 2.04313957e+10,\n",
       "       7.49210792e+10, 1.80124945e+10, 1.13620433e+10, 1.82371969e+10,\n",
       "       2.11016976e+10, 9.20910670e+09, 6.97501888e+10, 8.67088781e+10,\n",
       "       2.62610212e+09, 2.18979000e+11, 7.68528397e+09, 6.84246706e+10,\n",
       "       1.18389635e+10, 4.76809105e+10, 1.00890820e+10, 1.19165330e+10,\n",
       "       1.66761459e+10, 1.99426000e+11, 1.92709000e+11, 2.20080510e+10,\n",
       "       1.31991675e+10, 5.44232987e+10, 1.18739608e+10, 1.89855000e+11,\n",
       "       4.51196841e+10, 6.16166435e+10, 1.86477000e+11, 1.62749693e+10,\n",
       "       1.43797178e+10, 2.20218823e+10, 6.54824624e+10, 2.33357777e+10,\n",
       "       4.16974532e+10, 2.57592803e+10, 8.04398045e+10, 1.31011125e+10,\n",
       "       4.41830232e+10, 5.13450128e+09, 4.73405117e+10, 2.86692308e+10,\n",
       "       7.53231417e+10, 1.73908737e+10, 6.63511500e+10, 1.17455953e+10,\n",
       "       1.36851780e+10, 5.21866286e+10, 3.83936035e+10, 1.33905135e+10,\n",
       "       1.93173800e+10, 2.14009525e+10, 2.74335400e+10, 8.76375673e+09,\n",
       "       8.32026212e+09, 2.10327191e+10, 2.65806449e+10, 2.51511984e+10,\n",
       "       4.75435719e+10, 1.55666457e+10, 1.65203000e+11, 2.12097839e+10,\n",
       "       1.78080737e+10, 5.20781857e+10, 9.03529336e+09, 2.74086210e+10,\n",
       "       1.37549773e+10, 1.42268308e+10, 3.59617720e+10, 4.42166964e+10,\n",
       "       3.84602723e+10, 1.94476709e+10, 2.74470999e+10, 3.78902270e+10,\n",
       "       4.40402984e+10, 1.31168949e+10, 4.21272925e+09, 6.11640301e+10,\n",
       "       1.26388290e+10, 1.41213346e+10, 3.33338136e+10, 2.09255081e+10,\n",
       "       1.43835253e+10, 4.95432645e+10, 1.01318925e+10, 1.80276336e+10,\n",
       "       3.47348169e+10, 1.97221786e+10, 1.10406781e+10, 4.24496564e+10,\n",
       "       1.01335475e+10, 3.26149000e+11, 8.74418580e+09, 5.23423000e+11,\n",
       "       1.53113734e+10, 8.07736851e+09, 6.72804788e+10, 3.23084597e+10,\n",
       "       2.24376537e+10, 1.37060751e+10, 2.69189497e+10, 6.70699293e+09,\n",
       "       5.42788496e+09, 7.97848506e+09, 1.12739618e+10, 5.81908033e+09,\n",
       "       4.24143283e+10, 2.49165031e+10, 9.62416901e+09, 2.17591880e+10,\n",
       "       2.58539693e+10, 1.26845177e+10, 1.18403316e+10, 1.08283144e+10,\n",
       "       6.41803907e+10, 1.32249000e+11, 2.10188873e+10, 3.10982431e+10,\n",
       "       6.15366062e+10, 1.45543217e+10, 1.08107000e+11, 1.69200233e+10,\n",
       "       9.69785003e+10, 8.24456824e+09, 1.46393082e+10, 4.33565575e+10,\n",
       "       8.00626862e+09, 8.15894989e+09, 1.81407266e+10, 1.99263056e+10,\n",
       "       1.27320720e+10, 3.44490528e+10, 1.09677555e+10, 7.34524381e+09,\n",
       "       1.14529620e+10, 1.40161300e+10, 2.48008596e+10, 2.62424158e+10,\n",
       "       1.11814938e+10, 2.23379000e+11, 1.14422000e+11, 1.73386131e+10,\n",
       "       1.43947153e+10, 3.48952941e+10, 3.69736172e+10, 1.67664973e+10,\n",
       "       1.06282479e+10, 1.54228850e+10, 1.79692758e+10, 5.59943781e+10,\n",
       "       3.22952000e+10, 1.82209613e+10, 2.27854506e+10, 2.11536000e+11,\n",
       "       4.13730512e+10, 1.42433000e+11, 2.44659964e+10, 8.27736303e+09,\n",
       "       1.12700404e+10, 4.12337716e+10, 4.48666213e+10, 1.36208476e+10,\n",
       "       2.04264887e+10, 9.41024928e+09, 1.29453664e+10, 9.32648432e+09,\n",
       "       1.36123949e+10, 3.53062000e+11, 3.48222248e+10, 3.86614000e+11,\n",
       "       9.26735000e+09, 1.10370410e+10, 2.21827949e+10, 2.25897449e+10,\n",
       "       3.94495960e+10, 6.18048750e+09, 3.86127122e+10, 1.60786220e+10,\n",
       "       1.05708612e+10, 8.96183093e+10, 2.54713558e+10, 1.38620428e+10,\n",
       "       1.62293431e+10, 1.72713880e+10, 2.79675348e+10, 6.03460048e+09,\n",
       "       1.46159672e+10, 8.91038943e+09, 8.44759862e+10, 1.71230310e+10,\n",
       "       1.24699319e+10, 9.81021200e+10, 1.61111669e+10, 8.29096789e+10,\n",
       "       4.35566500e+10, 2.78408274e+10, 8.47311917e+09, 7.54106350e+09,\n",
       "       1.38750053e+10, 3.16337400e+10, 5.09101304e+10, 4.18194400e+10,\n",
       "       1.37568127e+10, 1.34287923e+10, 1.87102000e+11, 5.84340235e+09,\n",
       "       1.34593533e+10, 1.32102000e+11, 3.15348403e+10, 1.10107000e+11,\n",
       "       1.52242000e+11, 4.86793643e+10, 1.64207744e+10, 1.96336743e+10,\n",
       "       1.00539190e+10, 1.93930956e+10, 4.85767920e+10, 6.89978000e+11,\n",
       "       9.99262899e+09, 1.98973565e+10, 1.23968621e+10, 6.58278177e+10,\n",
       "       5.30768243e+10, 3.64038310e+10, 3.01899780e+10, 9.75354000e+10,\n",
       "       1.66260397e+10, 2.16988493e+10, 1.28443041e+10, 1.29400968e+10,\n",
       "       3.69269133e+09, 1.53752109e+10, 1.14805000e+11, 1.44383460e+10,\n",
       "       5.69512308e+09, 1.97494495e+10, 9.35690646e+09, 9.49673570e+09,\n",
       "       6.96611778e+10, 1.33776701e+10, 1.06776000e+11, 7.77656637e+09,\n",
       "       1.31773253e+10, 8.21250986e+09, 4.05435474e+10, 2.29081302e+10,\n",
       "       5.87824140e+10, 1.31915073e+10, 8.03003602e+09, 2.00033171e+10,\n",
       "       1.38653000e+11, 2.14337819e+10, 5.34676924e+10, 1.73775520e+10,\n",
       "       2.19884725e+10, 2.02302000e+11, 2.41521029e+10, 1.10512739e+10,\n",
       "       2.44216685e+10, 3.20979240e+09, 2.32536668e+10, 9.07080000e+10,\n",
       "       1.24666609e+10, 6.52761600e+09, 1.61413000e+11, 8.35176727e+09,\n",
       "       1.23263799e+10, 2.08506000e+11, 2.03094124e+10, 1.53581000e+11,\n",
       "       4.79962200e+10, 8.39760989e+09, 2.99831197e+10, 7.33150000e+10,\n",
       "       8.75343048e+09, 2.90433375e+10, 2.08398148e+10, 4.29486642e+10,\n",
       "       9.18174489e+10, 1.84571997e+10, 2.06319000e+11, 3.10627800e+10,\n",
       "       3.19532880e+10, 4.71360800e+10, 2.41380503e+10, 3.22585399e+10,\n",
       "       8.79257235e+09, 1.14786259e+10, 9.87788515e+09, 9.62828289e+10,\n",
       "       5.33013122e+09, 1.35783000e+10, 3.25558797e+09, 1.32162717e+10,\n",
       "       5.90662558e+10, 1.37849425e+10, 2.27999239e+10, 9.85836749e+09,\n",
       "       3.59503692e+10, 2.15006400e+10, 2.15909039e+10, 1.32336227e+10,\n",
       "       7.04716548e+09, 2.41232164e+10, 2.21978706e+10, 2.72477898e+10,\n",
       "       2.98035663e+10, 2.74181475e+10, 4.65859500e+10, 7.94891150e+10,\n",
       "       1.95720313e+10, 5.22944888e+09, 9.65293111e+10, 1.13286424e+10,\n",
       "       1.41131977e+10, 8.00193840e+09, 2.61638622e+10, 3.77309948e+10,\n",
       "       3.03427555e+09, 4.81398395e+10, 1.84930809e+10, 8.61771434e+09,\n",
       "       9.49910774e+09, 4.34972241e+10, 3.43512116e+10, 2.44963996e+10,\n",
       "       7.65489760e+10, 3.80591133e+10, 6.21856029e+09, 5.75090968e+10,\n",
       "       3.24989483e+10, 1.65204973e+10, 2.88937500e+10, 1.27670679e+10,\n",
       "       3.04453208e+10, 2.58108650e+10, 1.42471994e+10, 3.98166965e+10,\n",
       "       3.49836663e+10, 1.41630645e+10, 1.00263000e+11, 1.52546724e+10,\n",
       "       5.60839049e+10, 1.65404180e+10, 1.12979581e+10, 2.08672720e+10,\n",
       "       9.72696213e+09, 3.89031318e+10, 1.57817000e+11, 8.32265863e+10,\n",
       "       1.28105153e+10, 7.41858000e+10, 4.81814509e+10, 9.61441217e+09,\n",
       "       1.56949511e+10, 8.45927120e+09, 1.52412037e+10, 5.70099851e+09,\n",
       "       4.40270949e+10, 6.61353135e+10, 2.69575268e+10, 9.09401159e+10,\n",
       "       9.05015442e+09, 1.33000001e+10, 5.85691357e+09, 5.36662895e+09,\n",
       "       1.01513000e+11, 1.93630592e+10, 2.18835000e+11, 9.64363568e+10,\n",
       "       1.46549541e+10, 1.05387000e+11, 1.11160753e+10, 1.12564323e+10,\n",
       "       3.17976459e+10, 3.93123091e+10, 1.06926817e+10, 1.88659991e+10,\n",
       "       1.07549838e+10, 1.55946771e+10, 2.08092000e+11, 3.93693863e+10,\n",
       "       1.06010080e+10, 2.70039000e+11, 1.27787799e+10, 1.69641622e+10,\n",
       "       3.04681000e+11, 7.08625419e+10, 3.54884867e+10, 1.60640786e+10,\n",
       "       1.88902970e+10, 2.81464000e+11, 2.09436790e+10, 2.47602978e+10,\n",
       "       8.95160921e+09, 1.64333407e+10, 2.60702980e+10, 1.21779200e+10,\n",
       "       2.48023965e+10, 2.07802693e+10, 1.19938357e+10, 1.82254005e+10,\n",
       "       2.15596119e+10, 7.93883334e+09, 1.70649756e+10, 1.07534236e+10,\n",
       "       1.29150210e+10, 2.70033031e+10, 2.44546981e+10, 1.06706786e+10,\n",
       "       3.59911098e+10])"
      ]
     },
     "execution_count": 9,
     "metadata": {},
     "output_type": "execute_result"
    }
   ],
   "source": [
    "np.transpose(marketcapnumpy)"
   ]
  },
  {
   "cell_type": "code",
   "execution_count": 10,
   "id": "cba1b382",
   "metadata": {},
   "outputs": [
    {
     "data": {
      "text/plain": [
       "806881897879.0"
      ]
     },
     "execution_count": 10,
     "metadata": {},
     "output_type": "execute_result"
    }
   ],
   "source": [
    "np.ptp(marketcapnumpy)"
   ]
  },
  {
   "cell_type": "code",
   "execution_count": 11,
   "id": "8305fd87",
   "metadata": {},
   "outputs": [
    {
     "data": {
      "text/plain": [
       "80688189787.9"
      ]
     },
     "execution_count": 11,
     "metadata": {},
     "output_type": "execute_result"
    }
   ],
   "source": [
    "806881897879.0/10"
   ]
  },
  {
   "cell_type": "code",
   "execution_count": 12,
   "id": "9ee398ea",
   "metadata": {},
   "outputs": [
    {
     "data": {
      "text/plain": [
       "(array([436.,  38.,  17.,   5.,   3.,   0.,   1.,   0.,   3.,   2.]),\n",
       " array([2.62610212e+09, 8.33142919e+10, 1.64002482e+11, 2.44690671e+11,\n",
       "        3.25378861e+11, 4.06067051e+11, 4.86755241e+11, 5.67443431e+11,\n",
       "        6.48131620e+11, 7.28819810e+11, 8.09508000e+11]),\n",
       " <BarContainer object of 10 artists>)"
      ]
     },
     "execution_count": 12,
     "metadata": {},
     "output_type": "execute_result"
    },
    {
     "data": {
      "image/png": "[encoded data removed]",
      "text/plain": [
       "<Figure size 432x288 with 1 Axes>"
      ]
     },
     "metadata": {},
     "output_type": "display_data"
    }
   ],
   "source": [
    "plt.hist(marketcapnumpy, bins=10 )\n"
   ]
  },
  {
   "cell_type": "code",
   "execution_count": 13,
   "id": "629748bb",
   "metadata": {},
   "outputs": [],
   "source": [
    "#A little complicated and dificult to work with so I will Divide by a billion to simplify"
   ]
  },
  {
   "cell_type": "code",
   "execution_count": 15,
   "id": "3ca5596a",
   "metadata": {},
   "outputs": [],
   "source": [
    "marketcapsbln = marketcapnumpy/1000000000\n"
   ]
  },
  {
   "cell_type": "code",
   "execution_count": 16,
   "id": "a5114f9a",
   "metadata": {},
   "outputs": [
    {
     "data": {
      "text/plain": [
       "806.881897879"
      ]
     },
     "execution_count": 16,
     "metadata": {},
     "output_type": "execute_result"
    }
   ],
   "source": [
    "#double checking \n",
    "np.ptp(marketcapsbln)\n"
   ]
  },
  {
   "cell_type": "code",
   "execution_count": 17,
   "id": "fa7e2f8a",
   "metadata": {},
   "outputs": [
    {
     "ename": "NameError",
     "evalue": "name 'xaxis' is not defined",
     "output_type": "error",
     "traceback": [
      "\u001b[1;31m---------------------------------------------------------------------------\u001b[0m",
      "\u001b[1;31mNameError\u001b[0m                                 Traceback (most recent call last)",
      "\u001b[1;32m<ipython-input-17-ead2f7752976>\u001b[0m in \u001b[0;36m<module>\u001b[1;34m\u001b[0m\n\u001b[0;32m      2\u001b[0m \u001b[0mplt\u001b[0m\u001b[1;33m.\u001b[0m\u001b[0mhist\u001b[0m\u001b[1;33m(\u001b[0m\u001b[0mmarketcapsbln\u001b[0m\u001b[1;33m,\u001b[0m \u001b[0mbins\u001b[0m\u001b[1;33m=\u001b[0m\u001b[1;36m30\u001b[0m \u001b[1;33m)\u001b[0m\u001b[1;33m\u001b[0m\u001b[1;33m\u001b[0m\u001b[0m\n\u001b[0;32m      3\u001b[0m \u001b[1;33m\u001b[0m\u001b[0m\n\u001b[1;32m----> 4\u001b[1;33m \u001b[0mxaxis\u001b[0m\u001b[1;33m(\u001b[0m\u001b[0mtitle\u001b[0m\u001b[1;33m)\u001b[0m\u001b[1;33m\u001b[0m\u001b[1;33m\u001b[0m\u001b[0m\n\u001b[0m",
      "\u001b[1;31mNameError\u001b[0m: name 'xaxis' is not defined"
     ]
    },
    {
     "data": {
      "image/png": "[encoded data removed]",
      "text/plain": [
       "<Figure size 432x288 with 1 Axes>"
      ]
     },
     "metadata": {},
     "output_type": "display_data"
    }
   ],
   "source": [
    "#Make a new histogram\n",
    "plt.hist(marketcapsbln, bins=30 )\n",
    "\n",
    "xaxis(title)\n"
   ]
  },
  {
   "cell_type": "code",
   "execution_count": null,
   "id": "5e370c00",
   "metadata": {},
   "outputs": [],
   "source": []
  },
  {
   "cell_type": "code",
   "execution_count": 18,
   "id": "f6e5a848",
   "metadata": {},
   "outputs": [],
   "source": [
    "#Sort the dataframe to find the top ten and bottom ten by market cap"
   ]
  },
  {
   "cell_type": "code",
   "execution_count": 20,
   "id": "bbcaa3be",
   "metadata": {},
   "outputs": [
    {
     "name": "stdout",
     "output_type": "stream",
     "text": [
      "                      Name    Market Cap\n",
      "104      Chesapeake Energy  2.626102e+09\n",
      "412        Signet Jewelers  3.034276e+09\n",
      "353    Patterson Companies  3.209792e+09\n",
      "386  Range Resources Corp.  3.255588e+09\n",
      "324                Navient  3.692691e+09\n",
      "170    Envision Healthcare  4.212729e+09\n",
      "57            Assurant Inc  4.653994e+09\n",
      "133              CSRA Inc.  5.134501e+09\n",
      "405             SCANA Corp  5.229449e+09\n",
      "384   Quanta Services Inc.  5.330131e+09\n"
     ]
    }
   ],
   "source": [
    "Marketcap_smallest = sp_marketcap.sort_values('Market Cap', ascending = True)\n",
    "print(Marketcap_smallest.head(10))"
   ]
  },
  {
   "cell_type": "code",
   "execution_count": 21,
   "id": "149dc0a7",
   "metadata": {},
   "outputs": [],
   "source": [
    "Marketcap_largest = sp_marketcap.sort_values('Market Cap', ascending = False)"
   ]
  },
  {
   "cell_type": "code",
   "execution_count": 22,
   "id": "5eff59ce",
   "metadata": {},
   "outputs": [
    {
     "name": "stdout",
     "output_type": "stream",
     "text": [
      "                     Name    Market Cap\n",
      "51             Apple Inc.  8.095080e+11\n",
      "27   Alphabet Inc Class A  7.338240e+11\n",
      "28   Alphabet Inc Class C  7.285360e+11\n",
      "311       Microsoft Corp.  6.899780e+11\n",
      "30         Amazon.com Inc  6.858730e+11\n",
      "187        Facebook, Inc.  5.234230e+11\n",
      "263  JPMorgan Chase & Co.  3.866140e+11\n",
      "261     Johnson & Johnson  3.530620e+11\n",
      "185     Exxon Mobil Corp.  3.261490e+11\n",
      "66   Bank of America Corp  3.214780e+11\n",
      "480       Wal-Mart Stores  3.046810e+11\n",
      "485           Wells Fargo  2.814640e+11\n",
      "477             Visa Inc.  2.700390e+11\n",
      "70     Berkshire Hathaway  2.614010e+11\n",
      "58               AT&T Inc  2.267130e+11\n"
     ]
    }
   ],
   "source": [
    "print(Marketcap_largest.head(15))"
   ]
  },
  {
   "cell_type": "code",
   "execution_count": 23,
   "id": "e16f24ec",
   "metadata": {},
   "outputs": [],
   "source": [
    "#create a scatterplot of companies to visualise this"
   ]
  },
  {
   "cell_type": "code",
   "execution_count": 24,
   "id": "aa8086ca",
   "metadata": {},
   "outputs": [],
   "source": [
    "#create a list of companies to analyse"
   ]
  },
  {
   "cell_type": "code",
   "execution_count": 30,
   "id": "4f9c01c7",
   "metadata": {},
   "outputs": [
    {
     "name": "stdout",
     "output_type": "stream",
     "text": [
      "                     Name    Market Cap\n",
      "51             Apple Inc.  8.095080e+11\n",
      "27   Alphabet Inc Class A  7.338240e+11\n",
      "28   Alphabet Inc Class C  7.285360e+11\n",
      "311       Microsoft Corp.  6.899780e+11\n",
      "30         Amazon.com Inc  6.858730e+11\n",
      "187        Facebook, Inc.  5.234230e+11\n",
      "263  JPMorgan Chase & Co.  3.866140e+11\n",
      "261     Johnson & Johnson  3.530620e+11\n",
      "185     Exxon Mobil Corp.  3.261490e+11\n",
      "66   Bank of America Corp  3.214780e+11\n",
      "480       Wal-Mart Stores  3.046810e+11\n",
      "485           Wells Fargo  2.814640e+11\n",
      "477             Visa Inc.  2.700390e+11\n",
      "70     Berkshire Hathaway  2.614010e+11\n",
      "58               AT&T Inc  2.267130e+11\n"
     ]
    }
   ],
   "source": [
    "largest_companies = Marketcap_largest[0:15]\n",
    "print(largest_companies)"
   ]
  },
  {
   "cell_type": "code",
   "execution_count": 32,
   "id": "830e9088",
   "metadata": {},
   "outputs": [
    {
     "name": "stdout",
     "output_type": "stream",
     "text": [
      "51               Apple Inc.\n",
      "27     Alphabet Inc Class A\n",
      "28     Alphabet Inc Class C\n",
      "311         Microsoft Corp.\n",
      "30           Amazon.com Inc\n",
      "187          Facebook, Inc.\n",
      "263    JPMorgan Chase & Co.\n",
      "261       Johnson & Johnson\n",
      "185       Exxon Mobil Corp.\n",
      "66     Bank of America Corp\n",
      "480         Wal-Mart Stores\n",
      "485             Wells Fargo\n",
      "477               Visa Inc.\n",
      "70       Berkshire Hathaway\n",
      "58                 AT&T Inc\n",
      "Name: Name, dtype: object\n"
     ]
    }
   ],
   "source": [
    "listoflargest = largest_companies['Name']\n",
    "print(listoflargest)"
   ]
  }
 ],
 "metadata": {
  "kernelspec": {
   "display_name": "Python 3",
   "language": "python",
   "name": "python3"
  },
  "language_info": {
   "codemirror_mode": {
    "name": "ipython",
    "version": 3
   },
   "file_extension": ".py",
   "mimetype": "text/x-python",
   "name": "python",
   "nbconvert_exporter": "python",
   "pygments_lexer": "ipython3",
   "version": "3.8.8"
  }
 },
 "nbformat": 4,
 "nbformat_minor": 5
}
